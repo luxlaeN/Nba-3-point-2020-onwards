{
 "cells": [
  {
   "attachments": {},
   "cell_type": "markdown",
   "metadata": {},
   "source": [
    "The Nba has recently been breaking many scoring record and so it is normal to end a game at 120 points or above. However 20 years ago this would have been the highest scoring game ever. The worst nba offense this season would have broken in the 2000's. So I have decided to look at the three point percentage to see how the addition and use of the three point shot has affected how the game is played and how the scores are affected.\n",
    "The problem is, that viewership of NBA Games have gone down with the affect of more threes being made. This is also in correlation of defense not being more apperciated in a game since the hand check rule was removed. I want to show the correlation between viewership of nba games and three pointers being made to show that it actually is destroying the game little by little. This will be publicly available for all to use.\n",
    "Link: https://www.kaggle.com/code/povilaskorop/nba-score-growth-and-3-pointers-analysis\n",
    "I will use a .csv file.\n",
    "\n",
    "Functional Requirements.\n",
    "    - Data visualisation (A clean graph that clearly and efficiently shows dat of three pointers across multiple years)\n",
    "    - Cleaning (Shouln't need it as the data should already be cleaned)\n",
    "    - Data loading (Needs to be able to obtain huge amounts of data across 30+ years and to be easily formatted into Pandas)\n",
    "    - Reporting (Will be using a csv file)\n",
    "\n",
    "Use cases\n",
    "    - Data visualisation: If the user wants a visual representation of NBA 3 point correlation they can get it with a set of visual graphs that can be overlayed on another.\n",
    "    - Data loading should already be in the .csv file.\n",
    "\n",
    "Usability: A working computer?\n",
    "Reliability: nothing no personal information is used.\n",
    "\n",
    "\n",
    "Research and Planning:\n",
    "Purpose: I am trying to find out how the games increased scoring relates to the sudden boost of 3 pointers being shot. It is important to use further research to find this out to find a correlation between them I need to find data that backs it up. Doing this I can find the causation of the sudden boost in scoring which will relate to 3 points. We can also find a correlation with the removal of an infomous rule in the NBA called the 'hand-check' which allowed opposing defenders to keep their hand right up close to the ball making it harder for the opposing player to score. The NBA removed this rule in an effort to boost scoring numbers which also in turn increased viewerships. This is from the Jordan-era, the removal of the hand-check in 2004 and the steph curry and GSW era.\n",
    "\n",
    "\n",
    "Data Dictionary\n",
    "| Game_year | Total_score | fg3_made | fg3_attempts |\n",
    "| --- | --- | --- | --- |\n",
    "| what year the game it took place | Total score of both teams | 3's made | 3's attempted. |\n",
    "\n",
    "\n"
   ]
  }
 ],
 "metadata": {
  "language_info": {
   "name": "python"
  },
  "orig_nbformat": 4
 },
 "nbformat": 4,
 "nbformat_minor": 2
}
