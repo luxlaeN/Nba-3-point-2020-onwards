{
 "cells": [
  {
   "cell_type": "code",
   "execution_count": null,
   "metadata": {},
   "outputs": [],
   "source": [
    "The Data is every "
   ]
  },
  {
   "attachments": {},
   "cell_type": "markdown",
   "metadata": {},
   "source": [
    "The Nba has recently been breaking many scoring record and so it is normal to end a game at 120 points or above. However 20 years ago this would have been the bighest scoring games ever. The worst nba offense this season would have been the best ever in the 2000's. So I have decided to look at the three point percentage to see how the addition and use of the three point shot has affected how the game is played and how the scores are affected.\n",
    "The problem is, that viewership of NBA Games have gone down with the affect of more threes being made. This is also in correlation of defense not being more apperciated in a game since the hand check rule was removed. I want to show the correlation between viewership of nba games and three pointers being made to show that it actually is destroying the game little by little. This will be publicly available for all to use.\n",
    "\n",
    "Functional Requirements.\n",
    "    - Data visualisation\n",
    "    - Cleaning\n",
    "    - Data loading\n",
    "    - Reporting"
   ]
  }
 ],
 "metadata": {
  "language_info": {
   "name": "python"
  },
  "orig_nbformat": 4
 },
 "nbformat": 4,
 "nbformat_minor": 2
}
